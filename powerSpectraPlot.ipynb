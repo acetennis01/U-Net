{
 "cells": [
  {
   "cell_type": "code",
   "execution_count": 71,
   "id": "f6a36dbd-7b45-48f7-b490-366fdf93a17a",
   "metadata": {},
   "outputs": [],
   "source": [
    "import numpy as np\n",
    "import h5py\n",
    "import MAS_library as MASL\n",
    "import Pk_library as PKL\n",
    "import matplotlib.pylab as plt\n",
    "import math\n",
    "import matplotlib as mat\n",
    "from array import *"
   ]
  },
  {
   "cell_type": "code",
   "execution_count": 78,
   "id": "6f4905ed-0bc3-4051-b016-f128a9adce97",
   "metadata": {},
   "outputs": [],
   "source": [
    "f_Pk_hydro0 = 'PK/Illustris/1P_1_0/Pk_m_z=0.00.txt'\n",
    "f_Pk_Nbody0 = 'PK/Illustris_DM/1P_1_0/Pk_m_z=0.00.txt'"
   ]
  },
  {
   "cell_type": "code",
   "execution_count": 79,
   "id": "c14b4256-d85e-402d-8e1e-c3b486e97b9c",
   "metadata": {},
   "outputs": [],
   "source": [
    "f_Pk_hydro1 = 'PK/Illustris/1P_1_1/Pk_m_z=0.00.txt'\n",
    "f_PK_Nbody1 = 'PK/Illustris_DM/1P_1_1/Pk_m_z=0.00.txt'"
   ]
  },
  {
   "cell_type": "code",
   "execution_count": 80,
   "id": "6c58b0b7-35bc-402c-a513-429d0f33b54a",
   "metadata": {},
   "outputs": [],
   "source": [
    "f_Pk_hydro2 = 'PK/Illustris/1P_1_2/Pk_m_z=0.00.txt'\n",
    "f_Pk_Nbody2 = 'PK/Illustris_DM/1P_1_2/Pk_m_z=0.00.txt'"
   ]
  },
  {
   "cell_type": "code",
   "execution_count": 81,
   "id": "1317f460-946c-40e3-8f1f-fc708f4bd082",
   "metadata": {},
   "outputs": [],
   "source": [
    "k_hydro0, Pk_hydro0 = np.loadtxt(f_Pk_hydro0, unpack=True)\n",
    "k_Nbody0, Pk_Nbody0 = np.loadtxt(f_Pk_Nbody0, unpack=True)"
   ]
  },
  {
   "cell_type": "code",
   "execution_count": 82,
   "id": "a0d7331b-ac6a-430b-835a-ff388ba6a126",
   "metadata": {},
   "outputs": [],
   "source": [
    "k_hydro1, Pk_hydro1 = np.loadtxt(f_Pk_hydro1, unpack=True)\n",
    "k_Nbody1, Pk_Nbody1 = np.loadtxt(f_Pk_Nbody1, unpack=True)"
   ]
  },
  {
   "cell_type": "code",
   "execution_count": 83,
   "id": "6bc72390-8bc4-46ff-beab-7bba19abc1d3",
   "metadata": {},
   "outputs": [],
   "source": [
    "k_hydro2, Pk_hydro2 = np.loadtxt(f_Pk_hydro2, unpack=True)\n",
    "k_Nbody2, Pk_Nbody2 = np.loadtxt(f_Pk_Nbody2, unpack=True)"
   ]
  },
  {
   "cell_type": "code",
   "execution_count": 89,
   "id": "3d847db8-040f-4a33-942a-2e7095264584",
   "metadata": {},
   "outputs": [
    {
     "data": {
      "image/png": "[encoded data removed]",
      "text/plain": [
       "<Figure size 432x288 with 1 Axes>"
      ]
     },
     "metadata": {
      "needs_background": "light"
     },
     "output_type": "display_data"
    },
    {
     "data": {
      "text/plain": [
       "<Figure size 432x288 with 0 Axes>"
      ]
     },
     "metadata": {},
     "output_type": "display_data"
    }
   ],
   "source": [
    "mat.pylab.xlabel(r'$k [h/{\\rm Mpc}]$')\n",
    "mat.pylab.ylabel(r'$P_{hydro}(k)/P_{N-body}(k)$')\n",
    "mat.pylab.xscale('log')\n",
    "mat.pyplot.xlim(left=(math.pow(10, 0)), right=math.pow(10, 2)+12)\n",
    "mat.pyplot.ylim(top=1.5)\n",
    "\n",
    "mat.pylab.yscale('linear')\n",
    "mat.pylab.plot(k_hydro0, Pk_hydro0/Pk_Nbody0)\n",
    "#mat.pylab.plot(k_hydro1, Pk_hydro1/Pk_Nbody1)\n",
    "mat.pylab.plot(k_hydro2, Pk_hydro2/Pk_Nbody2)\n",
    "\n",
    "\n",
    "mat.pylab.show()\n",
    "mat.pyplot.savefig('powerSpectra_Fig7.png')"
   ]
  },
  {
   "cell_type": "code",
   "execution_count": null,
   "id": "f13f3dd7-58b9-4857-afb9-208f5511ebbf",
   "metadata": {},
   "outputs": [],
   "source": []
  },
  {
   "cell_type": "code",
   "execution_count": null,
   "id": "4109967c-4543-485b-a57f-2d9a524d7628",
   "metadata": {},
   "outputs": [],
   "source": []
  }
 ],
 "metadata": {
  "kernelspec": {
   "display_name": "Python 3",
   "language": "python",
   "name": "python3"
  },
  "language_info": {
   "codemirror_mode": {
    "name": "ipython",
    "version": 3
   },
   "file_extension": ".py",
   "mimetype": "text/x-python",
   "name": "python",
   "nbconvert_exporter": "python",
   "pygments_lexer": "ipython3",
   "version": "3.8.10"
  }
 },
 "nbformat": 4,
 "nbformat_minor": 5
}
